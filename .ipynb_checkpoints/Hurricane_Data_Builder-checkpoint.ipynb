{
 "cells": [
  {
   "cell_type": "code",
   "execution_count": 2,
   "id": "38e8f947-5a50-48d8-b766-6de07875a199",
   "metadata": {},
   "outputs": [],
   "source": [
    "import pandas as pd\n",
    "import numpy as np"
   ]
  },
  {
   "cell_type": "code",
   "execution_count": 3,
   "id": "b9c4d4c1-4e92-4f1d-8441-99cbc0f8baac",
   "metadata": {},
   "outputs": [],
   "source": [
    "url = \"https://www.aoml.noaa.gov/hrd/hurdat/All_U.S._Hurricanes.html\""
   ]
  },
  {
   "cell_type": "code",
   "execution_count": null,
   "id": "217f1d48-882d-4392-9ef7-703f4d5211bf",
   "metadata": {},
   "outputs": [],
   "source": [
    "tables = pd.read_html(url)"
   ]
  },
  {
   "cell_type": "code",
   "execution_count": null,
   "id": "e77aa276-ed0d-4b70-8f4d-fa99baaac04b",
   "metadata": {},
   "outputs": [],
   "source": [
    "table=tables[1]"
   ]
  },
  {
   "cell_type": "code",
   "execution_count": null,
   "id": "6dce4269-3750-49c6-b4a8-4ec28e7415be",
   "metadata": {},
   "outputs": [],
   "source": [
    "table = table.drop([0,1,3,357])\n",
    "table = table.drop([7,8,9,10,11,12,13,14,15], axis=1)\n",
    "table.columns = table.iloc[0]\n",
    "table = table.drop(2)"
   ]
  },
  {
   "cell_type": "code",
   "execution_count": null,
   "id": "1c8398cb-b977-4d0e-8381-231a70d1b684",
   "metadata": {},
   "outputs": [],
   "source": [
    "table = table[table['Year'].str.contains('s') == False]\n",
    "table = table[table.Month != '']\n",
    "table = table.dropna()"
   ]
  },
  {
   "cell_type": "code",
   "execution_count": null,
   "id": "0535e8c5-69e8-4414-ae37-cbafed74192b",
   "metadata": {},
   "outputs": [],
   "source": [
    "table = table.reset_index()\n",
    "table.columns.name = 'Id'\n",
    "table = table.drop(['index'], axis=1)"
   ]
  },
  {
   "cell_type": "code",
   "execution_count": null,
   "id": "6a34d92e-6346-4361-bba6-8fe92eb8497c",
   "metadata": {},
   "outputs": [],
   "source": [
    "table"
   ]
  },
  {
   "cell_type": "code",
   "execution_count": null,
   "id": "762d1437-07f8-48e2-a209-2aa56206ba30",
   "metadata": {},
   "outputs": [],
   "source": [
    "table.to_csv('hurr_data.csv')"
   ]
  },
  {
   "cell_type": "code",
   "execution_count": null,
   "id": "f29bee42-c7ca-4a7a-a12d-743455f89ad6",
   "metadata": {},
   "outputs": [],
   "source": [
    "ace_url = \"https://www.aoml.noaa.gov/hrd/hurdat/comparison_table.html\""
   ]
  },
  {
   "cell_type": "code",
   "execution_count": null,
   "id": "19cacfff-5293-4add-b201-3db16305a7f7",
   "metadata": {},
   "outputs": [],
   "source": [
    "ace_tables = pd.read_html(ace_url)"
   ]
  },
  {
   "cell_type": "code",
   "execution_count": null,
   "id": "d764c52d-80c2-41b1-b29c-4f147545dca4",
   "metadata": {},
   "outputs": [],
   "source": [
    "ace_table = ace_tables[1]"
   ]
  },
  {
   "cell_type": "code",
   "execution_count": null,
   "id": "e814d673-7d56-4f0a-986c-d014a2a7adba",
   "metadata": {},
   "outputs": [],
   "source": [
    "ace_table = ace_table.drop([0,1])"
   ]
  },
  {
   "cell_type": "code",
   "execution_count": null,
   "id": "af85f374-b842-400f-898c-91ef0372526f",
   "metadata": {},
   "outputs": [],
   "source": [
    "ace_table.columns = ace_table.iloc[0]"
   ]
  },
  {
   "cell_type": "code",
   "execution_count": null,
   "id": "6ed781c5-79b0-4ecf-a1b4-87ce5b4cc219",
   "metadata": {},
   "outputs": [],
   "source": [
    "ace_table = ace_table.drop(2)"
   ]
  },
  {
   "cell_type": "code",
   "execution_count": null,
   "id": "4495941c-6fd9-4acc-beab-9f1cb23053ba",
   "metadata": {},
   "outputs": [],
   "source": [
    "ace_table = ace_table.reset_index()\n",
    "ace_table.columns.name = 'Id'\n",
    "ace_table = ace_table.drop(['index'], axis=1)"
   ]
  },
  {
   "cell_type": "code",
   "execution_count": null,
   "id": "26c000e5-afe1-481f-84ed-982f525a84c5",
   "metadata": {},
   "outputs": [],
   "source": [
    "ace_table"
   ]
  },
  {
   "cell_type": "code",
   "execution_count": null,
   "id": "266468bb-df6a-4296-a019-2e8e8234e484",
   "metadata": {},
   "outputs": [],
   "source": [
    "ace_table = ace_table.drop('Original Named Storms', axis=1)"
   ]
  },
  {
   "cell_type": "code",
   "execution_count": null,
   "id": "28279ae1-d078-4fea-b930-22ea115e8a89",
   "metadata": {},
   "outputs": [],
   "source": [
    "ace_table = ace_table.drop('Original Hurricanes', axis=1)"
   ]
  },
  {
   "cell_type": "code",
   "execution_count": null,
   "id": "9338e047-7621-498e-9358-25bd58f6f6f4",
   "metadata": {},
   "outputs": [],
   "source": [
    "ace_table = ace_table.drop('Original Major Hurricanes', axis=1)"
   ]
  },
  {
   "cell_type": "code",
   "execution_count": null,
   "id": "db5c6b7a-f5c2-447b-8f99-79ae3833c475",
   "metadata": {},
   "outputs": [],
   "source": [
    "ace_table = ace_table.drop('Original ACE', axis=1)"
   ]
  },
  {
   "cell_type": "code",
   "execution_count": null,
   "id": "fd944fe9-1ff5-488b-9e65-fe8fef1fb3f4",
   "metadata": {},
   "outputs": [],
   "source": [
    "ace_table = ace_table.drop('Original U.S. Hurricanes', axis=1)"
   ]
  },
  {
   "cell_type": "code",
   "execution_count": null,
   "id": "4a5218d5-bbc5-48a1-8bc6-40233f98476e",
   "metadata": {},
   "outputs": [],
   "source": [
    "ace_table = ace_table.rename(columns={\"Revised Named Storms\":\"Storms\", \"Revised Hurricanes\":\"Hurricanes\", \"Revised Major Hurricanes\":\"Major Hurricanes\", \"Revised ACE\":\"ACE\", \"Revised U.S. Hurricanes\":\"U.S. Hurricanes\"})"
   ]
  },
  {
   "cell_type": "code",
   "execution_count": null,
   "id": "05be351c-4c19-4356-a1d6-2ee272020b9a",
   "metadata": {},
   "outputs": [],
   "source": [
    "ace_table"
   ]
  },
  {
   "cell_type": "code",
   "execution_count": null,
   "id": "2d90271f-e03e-4cfd-94fc-a39d2042fd9e",
   "metadata": {},
   "outputs": [],
   "source": [
    "ace_table.to_csv('ace_data.csv')"
   ]
  },
  {
   "cell_type": "code",
   "execution_count": 5,
   "id": "342e7e44-ccef-4fdc-b268-951320db2c83",
   "metadata": {},
   "outputs": [],
   "source": [
    "hurdat2Url = 'https://www.nhc.noaa.gov/data/hurdat/hurdat2-1851-2022-050423.txt'\n",
    "hurdat2 = pd.read_csv(hurdat2Url, sep=', ', header=None, names=['Date','Time','Record ID','System Status','Latitude','Longitude','Max Wind','k','l','m','n','o','p','q','r','s','t','u','v','w','x','y','z'], engine='python')\n",
    "hurdat2 = hurdat2.drop(['System Status','Latitude','Longitude','k','l','m','n','o','p','q','r','s','t','u','v','w','x','y','z'], axis=1)\n",
    "hurdat2.rename(columns={'Record ID':'Col3'}, inplace=True)\n",
    "hurdat2['Col3'] = hurdat2['Col3'].map(lambda x: x.rstrip(','))\n",
    "hurdat2['Col3'] = hurdat2['Col3'].map(lambda x: x.rstrip('L'))\n",
    "hurdat2['Col3'] = hurdat2['Col3'].map(lambda x: x.strip())\n",
    "numeric_indexes = hurdat2[hurdat2['Col3'].str.isnumeric()][:].index"
   ]
  },
  {
   "cell_type": "code",
   "execution_count": 6,
   "id": "850c2922-9b7e-4b17-a7b8-08fb952972b6",
   "metadata": {},
   "outputs": [
    {
     "data": {
      "text/plain": [
       "Index([    0,    15,    17,    19,    69,    86,   104,   150,   159,   180,\n",
       "       ...\n",
       "       55700, 55735, 55776, 55789, 55802, 55813, 55835, 55854, 55879, 55901],\n",
       "      dtype='int64', length=1952)"
      ]
     },
     "execution_count": 6,
     "metadata": {},
     "output_type": "execute_result"
    }
   ],
   "source": [
    "numeric_indexes"
   ]
  },
  {
   "cell_type": "code",
   "execution_count": 9,
   "id": "98219c97-e34d-4476-ae34-2015a97f97ab",
   "metadata": {},
   "outputs": [],
   "source": [
    "for i in numeric_indexes:\n",
    "    idx = hurdat2.iloc[i]['Col3']\n",
    "    ws = []\n",
    "    for x in range(1,int(idx)+1):\n",
    "        ws.append(hurdat2.iloc[i+x]['Max Wind'])\n",
    "    #print(max(ws))\n",
    "    hurdat2.iloc[i, hurdat2.columns.get_loc('Max Wind')] = max(ws)\n",
    "    ws = []"
   ]
  },
  {
   "cell_type": "code",
   "execution_count": 18,
   "id": "8ff8d797-f5e5-4721-a481-78abcc0eefe1",
   "metadata": {},
   "outputs": [],
   "source": [
    "hurdat2 = hurdat2.iloc[hurdat2.index.isin(numeric_indexes)]"
   ]
  },
  {
   "cell_type": "code",
   "execution_count": 21,
   "id": "a6a0eca6-bda7-4060-878f-4dd8ef11012f",
   "metadata": {},
   "outputs": [],
   "source": [
    "hurdat2 = hurdat2.drop('Col3', axis=1)"
   ]
  },
  {
   "cell_type": "code",
   "execution_count": 30,
   "id": "9e48c843-1696-4ae3-8caf-3357f1393122",
   "metadata": {},
   "outputs": [],
   "source": [
    "hurdat2['Date'] = hurdat2['Date'].str[4:]"
   ]
  },
  {
   "cell_type": "code",
   "execution_count": 32,
   "id": "d7b708e2-f8e0-4ac4-bd18-e8375af70c6a",
   "metadata": {},
   "outputs": [],
   "source": [
    "hurdat2.rename(columns={'Time':'Name'}, inplace=True)"
   ]
  },
  {
   "cell_type": "code",
   "execution_count": 33,
   "id": "6f15281b-2ee9-4776-a8b0-bf6d50573489",
   "metadata": {},
   "outputs": [
    {
     "data": {
      "text/html": [
       "<div>\n",
       "<style scoped>\n",
       "    .dataframe tbody tr th:only-of-type {\n",
       "        vertical-align: middle;\n",
       "    }\n",
       "\n",
       "    .dataframe tbody tr th {\n",
       "        vertical-align: top;\n",
       "    }\n",
       "\n",
       "    .dataframe thead th {\n",
       "        text-align: right;\n",
       "    }\n",
       "</style>\n",
       "<table border=\"1\" class=\"dataframe\">\n",
       "  <thead>\n",
       "    <tr style=\"text-align: right;\">\n",
       "      <th></th>\n",
       "      <th>Date</th>\n",
       "      <th>Name</th>\n",
       "      <th>Max Wind</th>\n",
       "    </tr>\n",
       "  </thead>\n",
       "  <tbody>\n",
       "    <tr>\n",
       "      <th>0</th>\n",
       "      <td>1851</td>\n",
       "      <td>UNNAMED</td>\n",
       "      <td>80.0</td>\n",
       "    </tr>\n",
       "    <tr>\n",
       "      <th>15</th>\n",
       "      <td>1851</td>\n",
       "      <td>UNNAMED</td>\n",
       "      <td>80.0</td>\n",
       "    </tr>\n",
       "    <tr>\n",
       "      <th>17</th>\n",
       "      <td>1851</td>\n",
       "      <td>UNNAMED</td>\n",
       "      <td>50.0</td>\n",
       "    </tr>\n",
       "    <tr>\n",
       "      <th>19</th>\n",
       "      <td>1851</td>\n",
       "      <td>UNNAMED</td>\n",
       "      <td>100.0</td>\n",
       "    </tr>\n",
       "    <tr>\n",
       "      <th>69</th>\n",
       "      <td>1851</td>\n",
       "      <td>UNNAMED</td>\n",
       "      <td>50.0</td>\n",
       "    </tr>\n",
       "    <tr>\n",
       "      <th>...</th>\n",
       "      <td>...</td>\n",
       "      <td>...</td>\n",
       "      <td>...</td>\n",
       "    </tr>\n",
       "    <tr>\n",
       "      <th>55813</th>\n",
       "      <td>2022</td>\n",
       "      <td>JULIA</td>\n",
       "      <td>75.0</td>\n",
       "    </tr>\n",
       "    <tr>\n",
       "      <th>55835</th>\n",
       "      <td>2022</td>\n",
       "      <td>KARL</td>\n",
       "      <td>50.0</td>\n",
       "    </tr>\n",
       "    <tr>\n",
       "      <th>55854</th>\n",
       "      <td>2022</td>\n",
       "      <td>LISA</td>\n",
       "      <td>80.0</td>\n",
       "    </tr>\n",
       "    <tr>\n",
       "      <th>55879</th>\n",
       "      <td>2022</td>\n",
       "      <td>MARTIN</td>\n",
       "      <td>75.0</td>\n",
       "    </tr>\n",
       "    <tr>\n",
       "      <th>55901</th>\n",
       "      <td>2022</td>\n",
       "      <td>NICOLE</td>\n",
       "      <td>65.0</td>\n",
       "    </tr>\n",
       "  </tbody>\n",
       "</table>\n",
       "<p>1952 rows × 3 columns</p>\n",
       "</div>"
      ],
      "text/plain": [
       "       Date                Name  Max Wind\n",
       "0      1851             UNNAMED      80.0\n",
       "15     1851             UNNAMED      80.0\n",
       "17     1851             UNNAMED      50.0\n",
       "19     1851             UNNAMED     100.0\n",
       "69     1851             UNNAMED      50.0\n",
       "...     ...                 ...       ...\n",
       "55813  2022               JULIA      75.0\n",
       "55835  2022                KARL      50.0\n",
       "55854  2022                LISA      80.0\n",
       "55879  2022              MARTIN      75.0\n",
       "55901  2022              NICOLE      65.0\n",
       "\n",
       "[1952 rows x 3 columns]"
      ]
     },
     "execution_count": 33,
     "metadata": {},
     "output_type": "execute_result"
    }
   ],
   "source": [
    "hurdat2"
   ]
  },
  {
   "cell_type": "code",
   "execution_count": 34,
   "id": "cf525236-8bfd-48fa-97a3-f42346c2a317",
   "metadata": {},
   "outputs": [],
   "source": [
    "hurdat2.to_csv('hurdat_data.csv')"
   ]
  }
 ],
 "metadata": {
  "kernelspec": {
   "display_name": "Python 3 (ipykernel)",
   "language": "python",
   "name": "python3"
  },
  "language_info": {
   "codemirror_mode": {
    "name": "ipython",
    "version": 3
   },
   "file_extension": ".py",
   "mimetype": "text/x-python",
   "name": "python",
   "nbconvert_exporter": "python",
   "pygments_lexer": "ipython3",
   "version": "3.11.2"
  }
 },
 "nbformat": 4,
 "nbformat_minor": 5
}
